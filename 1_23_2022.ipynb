{
  "nbformat": 4,
  "nbformat_minor": 0,
  "metadata": {
    "colab": {
      "name": "1/23/2022.ipynb",
      "provenance": [],
      "collapsed_sections": []
    },
    "kernelspec": {
      "name": "python3",
      "display_name": "Python 3"
    },
    "language_info": {
      "name": "python"
    }
  },
  "cells": [
    {
      "cell_type": "code",
      "execution_count": null,
      "metadata": {
        "id": "GbqI4DTcKwfS"
      },
      "outputs": [],
      "source": [
        "class student:\n",
        "  def __init__(self):\n",
        "    pass"
      ]
    },
    {
      "cell_type": "code",
      "source": [
        "s1=student()"
      ],
      "metadata": {
        "id": "VChyHdjMLmiS"
      },
      "execution_count": null,
      "outputs": []
    },
    {
      "cell_type": "code",
      "source": [
        "class student:\n",
        "  def __init__(self,age,name):\n",
        "    self.age=age\n",
        "    self.name=name\n",
        "  def display(self):\n",
        "    print(\"Age:\",self.age,'name:',self.name)\n",
        "\n"
      ],
      "metadata": {
        "id": "OTcCCQFkLqg4"
      },
      "execution_count": null,
      "outputs": []
    },
    {
      "cell_type": "code",
      "source": [
        "s2=student(45,'Shyam')\n",
        "s2.display()"
      ],
      "metadata": {
        "colab": {
          "base_uri": "https://localhost:8080/"
        },
        "id": "n7aMW8Mc0TWr",
        "outputId": "159ddb9e-e114-4853-dfcf-97ef04834c77"
      },
      "execution_count": null,
      "outputs": [
        {
          "output_type": "stream",
          "name": "stdout",
          "text": [
            "Age: 45 name: Shyam\n"
          ]
        }
      ]
    },
    {
      "cell_type": "code",
      "source": [
        "class student:\n",
        "  def __init__(self,name,age):\n",
        "    self.name=name\n",
        "    self.age=age\n",
        "  def display(self):\n",
        "    print(self.name,self.age)\n"
      ],
      "metadata": {
        "id": "-D2wjrt7LuAV"
      },
      "execution_count": null,
      "outputs": []
    },
    {
      "cell_type": "code",
      "source": [
        "class girls(student):\n",
        "  pass\n",
        "  \n"
      ],
      "metadata": {
        "id": "U9H5CApGNL1N"
      },
      "execution_count": null,
      "outputs": []
    },
    {
      "cell_type": "code",
      "source": [
        "g1=girls('Sita','32')"
      ],
      "metadata": {
        "id": "QFfe6ZA9NPoc"
      },
      "execution_count": null,
      "outputs": []
    },
    {
      "cell_type": "code",
      "source": [
        "g1.display()"
      ],
      "metadata": {
        "colab": {
          "base_uri": "https://localhost:8080/"
        },
        "id": "Dc4xPMpJN26E",
        "outputId": "7a974252-c103-4b2f-b471-583fcc8b60e3"
      },
      "execution_count": null,
      "outputs": [
        {
          "output_type": "stream",
          "name": "stdout",
          "text": [
            "Sita 32\n"
          ]
        }
      ]
    },
    {
      "cell_type": "code",
      "source": [
        ""
      ],
      "metadata": {
        "id": "_sVQU_3nN5YW"
      },
      "execution_count": null,
      "outputs": []
    }
  ]
}